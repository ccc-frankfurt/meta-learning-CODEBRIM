{
 "cells": [
  {
   "cell_type": "code",
   "execution_count": 50,
   "metadata": {},
   "outputs": [
    {
     "name": "stdout",
     "output_type": "stream",
     "text": [
      "Once deleted, variables cannot be recovered. Proceed (y/[n])? y\n"
     ]
    }
   ],
   "source": [
    "%reset\n",
    "import networkx as nx\n",
    "import matplotlib.pyplot as plt\n",
    "\n",
    "file_name = '../path/arch.txt'\n",
    "\n",
    "def createGraph(list_of_nodes_and_edges, node_colors, step):\n",
    "    colors = []\n",
    "    nodelist = []\n",
    "    fig = plt.figure(figsize=(10,10))\n",
    "    ops = ['Conv_3', 'Conv_3_S', 'Conv_5', 'Conv_5_S', 'Conv_1\\nwith\\nMaxPool', 'Conv_1\\nwith\\nAvgPool']\n",
    "    G = nx.MultiDiGraph(directed=True)\n",
    "    G.add_edges_from([('0: Input', '1: ' + ops[list_of_nodes_and_edges[0][0]])])\n",
    "    colors.append('tab:blue')#'k'\n",
    "    colors.append(node_colors[list_of_nodes_and_edges[0][0]])\n",
    "    for i in range(1,len(list_of_nodes_and_edges)):\n",
    "        G.add_edges_from([(str(i) + ': ' + ops[list_of_nodes_and_edges[i-1][0]], str(i+1) + ': ' + ops[list_of_nodes_and_edges[i][0]])])\n",
    "        colors.append(node_colors[list_of_nodes_and_edges[i][0]])\n",
    "        for j in range(1, len(list_of_nodes_and_edges[i])):\n",
    "            if list_of_nodes_and_edges[i][j]!=0:\n",
    "                G.add_edges_from([(str(j) + ': ' + ops[list_of_nodes_and_edges[j-1][0]], str(i+1) + ': ' + ops[list_of_nodes_and_edges[i][0]])])\n",
    "    G.add_edges_from([(str(len(list_of_nodes_and_edges))+': '+ops[list_of_nodes_and_edges[len(list_of_nodes_and_edges)-1][0]], '8: Sigmoid')])\n",
    "    colors.append('tab:cyan')\n",
    "    pos=nx.circular_layout(G)\n",
    "    nodelist = sorted(list(G.nodes))\n",
    "\n",
    "    ns = 7000\n",
    "    \n",
    "    arrow = nx.draw_networkx_edges(G, pos, node_size=ns, arrows=True, arrowstyle= '->')\n",
    "    for i in range(len(arrow)):\n",
    "        arrow[i].set_arrowstyle('->', head_length=1, head_width=0.7)\n",
    "    nx.draw_networkx_nodes(G, pos, linewidths=0.8, nodelist=nodelist, node_size=ns, node_color=colors, alpha=1.0)\n",
    "    nx.draw_networkx_labels(G, pos, font_size=13, font_family='sans-serif')\n",
    "    plt.xlim(-1.5,1.5)\n",
    "    plt.ylim(-1.5,1.5)\n",
    "    plt.axis('off')\n",
    "    \n",
    "    plt.tight_layout()\n",
    "    plt.savefig('figs/arc_' + format(step, '04d') + '.pdf', format='pdf')\n",
    "    plt.close()\n",
    "\n",
    "    \n",
    "node_color_list = ['tab:orange', 'tab:green', 'tab:red', 'tab:purple', 'tab:brown', 'tab:pink']#['r', 'g', 'b', 'c', 'y', 'm']\n",
    "\n",
    "with open(file_name,'r') as openfile:\n",
    "    list_of_nodes_and_edges = []\n",
    "    line_count = 0\n",
    "    step = 0\n",
    "    for line in openfile:\n",
    "        line_count+=1\n",
    "        line = line.split(' ')[1:-1]\n",
    "        line = map(int, line)\n",
    "        list_of_nodes_and_edges.append(list(line))\n",
    "        if line_count==7:\n",
    "            step += 1\n",
    "            createGraph(list(list_of_nodes_and_edges), node_color_list, step)\n",
    "            \n",
    "            line_count = 0\n",
    "            list_of_nodes_and_edges = []"
   ]
  },
  {
   "cell_type": "code",
   "execution_count": null,
   "metadata": {},
   "outputs": [],
   "source": [
    "import cv2\n",
    "import os\n",
    "\n",
    "image_folder = 'figs'\n",
    "video_name = 'video.mp4'\n",
    "\n",
    "images = [img for img in os.listdir(image_folder) if img.endswith(\".png\")]\n",
    "images = sorted(images)\n",
    "frame = cv2.imread(os.path.join(image_folder, images[0]))\n",
    "height, width, layers = frame.shape\n",
    "\n",
    "video = cv2.VideoWriter(video_name, -1, 3, (width,height))\n",
    "\n",
    "step = 25\n",
    "for i in range(step-1,len(images), step):\n",
    "    video.write(cv2.imread(os.path.join(image_folder, images[i])))\n",
    "\n",
    "cv2.destroyAllWindows()\n",
    "video.release()\n"
   ]
  }
 ],
 "metadata": {
  "kernelspec": {
   "display_name": "Python 3",
   "language": "python",
   "name": "python3"
  },
  "language_info": {
   "codemirror_mode": {
    "name": "ipython",
    "version": 3
   },
   "file_extension": ".py",
   "mimetype": "text/x-python",
   "name": "python",
   "nbconvert_exporter": "python",
   "pygments_lexer": "ipython3",
   "version": "3.5.2"
  }
 },
 "nbformat": 4,
 "nbformat_minor": 2
}
